{
 "cells": [
  {
   "cell_type": "code",
   "execution_count": 61,
   "id": "2fe00a8d",
   "metadata": {},
   "outputs": [],
   "source": [
    "import pandas as pd\n",
    "import numpy as np\n",
    "from datetime import date\n",
    "\n",
    "# import datasets\n",
    "apps_df = pd.read_csv('transfermarkt-data/appearances.csv')\n",
    "games_df = pd.read_csv('transfermarkt-data/club_games.csv')\n",
    "clubs_df = pd.read_csv('transfermarkt-data/clubs.csv')\n",
    "comps_df = pd.read_csv('transfermarkt-data/competitions.csv')\n",
    "events_df = pd.read_csv('transfermarkt-data/game_events.csv')\n",
    "values_df = pd.read_csv('transfermarkt-data/player_valuations.csv')\n",
    "players_df = pd.read_csv('transfermarkt-data/players.csv')"
   ]
  },
  {
   "cell_type": "code",
   "execution_count": 95,
   "id": "500ad492",
   "metadata": {
    "scrolled": true
   },
   "outputs": [
    {
     "name": "stdout",
     "output_type": "stream",
     "text": [
      "       player_id                name  current_club_id country_of_birth  \\\n",
      "1           1428          Mike Hanke               60          Germany   \n",
      "5           2306       Markus Miller               42          Germany   \n",
      "8           2878       Yassin Mikari              750      Switzerland   \n",
      "10          2923  Andreas Ivanschitz             3368          Austria   \n",
      "11          3273       Matthew Upson             1003          England   \n",
      "...          ...                 ...              ...              ...   \n",
      "28444     581678     Jude Bellingham               16          England   \n",
      "28446     659513  Soumaïla Coulibaly               16           France   \n",
      "28449     877620         Moussa Mané             6195          Senegal   \n",
      "28453     111527     Mathieu Duhamel            14171           France   \n",
      "28454     164928        Ilan Boccara            14171           France   \n",
      "\n",
      "      date_of_birth        sub_position    position   foot  height_in_cm  \\\n",
      "1        1983-11-05      Centre-Forward      Attack  right         185.0   \n",
      "5        1982-04-08          Goalkeeper  Goalkeeper  right         189.0   \n",
      "8        1983-01-09           Left-Back    Defender   left         172.0   \n",
      "10       1983-10-15  Attacking Midfield    Midfield   left         183.0   \n",
      "11       1979-04-18         Centre-Back    Defender   left         185.0   \n",
      "...             ...                 ...         ...    ...           ...   \n",
      "28444    2003-06-29    Central Midfield    Midfield  right         186.0   \n",
      "28446    2003-10-14         Centre-Back    Defender   left         191.0   \n",
      "28449    2003-11-19          Right-Back    Defender  right         182.0   \n",
      "28453    1984-07-12      Centre-Forward      Attack  right         183.0   \n",
      "28454    1993-05-14  Defensive Midfield    Midfield  right         178.0   \n",
      "\n",
      "      current_club_domestic_competition_id             current_club_name  \n",
      "1                                       L1                   SC Freiburg  \n",
      "5                                       L1                   Hannover 96  \n",
      "8                                      FR1        FC Sochaux-Montbéliard  \n",
      "10                                     ES1                    Levante UD  \n",
      "11                                     GB1                Leicester City  \n",
      "...                                    ...                           ...  \n",
      "28444                                   L1             Borussia Dortmund  \n",
      "28446                                   L1             Borussia Dortmund  \n",
      "28449                                  IT1                    SSC Napoli  \n",
      "28453                                  FR1  Thonon Évian Grand Genève FC  \n",
      "28454                                  FR1  Thonon Évian Grand Genève FC  \n",
      "\n",
      "[9503 rows x 11 columns]\n"
     ]
    }
   ],
   "source": [
    "# GLOBAL VARIABLES to restrict analysis to\n",
    "LEAGUES = ['premier-league', 'laliga', 'ligue-1', 'serie-a', 'bundesliga']\n",
    "MIN_AGE = None\n",
    "MAX_AGE = None\n",
    "\n",
    "#######################\n",
    "# dataset of players\n",
    "\n",
    "league_ids = []\n",
    "for league in LEAGUES:\n",
    "    league_id = comps_df.loc[comps_df['competition_code'] == league, 'competition_id'].values[0]\n",
    "    league_ids.append(league_id)\n",
    "\n",
    "# filter for the leagues (players are currently at...)\n",
    "playerpool_df = players_df[players_df['current_club_domestic_competition_id'].isin(league_ids)]\n",
    "\n",
    "# drop columns and rows and nan values\n",
    "playerpool_df = playerpool_df.drop([\"first_name\", \"last_name\", \"last_season\", \"player_code\", \"city_of_birth\",\n",
    "                                   \"country_of_citizenship\", \"market_value_in_eur\", \"highest_market_value_in_eur\",\n",
    "                                   \"agent_name\", \"image_url\", \"url\", \"contract_expiration_date\"],\n",
    "                                   axis=1) # contract_expiration_date dropped as it is not measured over time\n",
    "playerpool_df = playerpool_df.dropna()\n",
    "\n",
    "# merge playerpool and values on player_id\n",
    "playervalues_df = pd.merge(playerpool_df, values_df , on='player_id')\n",
    "\n",
    "print(playerpool_df)\n",
    "\n",
    "# lifespan_df = values_df[['player_id', 'date', 'market_value_in_eur']]\n",
    "    \n",
    "#print(lifespan_df[lifespan_df['player_id'] == 581678])\n",
    "# print(players_df[players_df['name']=='Jude Bellingham'])\n",
    "\n",
    "# print(values_df.columns)"
   ]
  },
  {
   "cell_type": "code",
   "execution_count": null,
   "id": "7d64549e",
   "metadata": {},
   "outputs": [],
   "source": []
  }
 ],
 "metadata": {
  "kernelspec": {
   "display_name": "Python 3 (ipykernel)",
   "language": "python",
   "name": "python3"
  },
  "language_info": {
   "codemirror_mode": {
    "name": "ipython",
    "version": 3
   },
   "file_extension": ".py",
   "mimetype": "text/x-python",
   "name": "python",
   "nbconvert_exporter": "python",
   "pygments_lexer": "ipython3",
   "version": "3.9.12"
  }
 },
 "nbformat": 4,
 "nbformat_minor": 5
}
